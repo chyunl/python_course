{
 "cells": [
  {
   "cell_type": "code",
   "execution_count": 27,
   "metadata": {},
   "outputs": [
    {
     "data": {
      "text/plain": [
       "0.9999999999732445"
      ]
     },
     "execution_count": 27,
     "metadata": {},
     "output_type": "execute_result"
    }
   ],
   "source": [
    "#调用f(x) = exp(x)并进行微分\n",
    "from math import exp\n",
    "\n",
    "def f1(x):\n",
    "    result = exp(x)\n",
    "    return result\n",
    "def diff(f1,x,h=1E-6):\n",
    "    result = (f(x+h) - f(x-h))/(2*h)\n",
    "    return result\n",
    "    \n",
    "diff(f1,0,h=1E-6)"
   ]
  },
  {
   "cell_type": "code",
   "execution_count": null,
   "metadata": {},
   "outputs": [],
   "source": [
    "#调用f(x) = exp(-2x**2)并进行微分\n",
    "from math import exp\n",
    "def f2(x):\n",
    "    result = = exp(-2*x**2)"
   ]
  },
  {
   "cell_type": "code",
   "execution_count": 28,
   "metadata": {},
   "outputs": [
    {
     "data": {
      "text/plain": [
       "0.9999999999732445"
      ]
     },
     "execution_count": 28,
     "metadata": {},
     "output_type": "execute_result"
    }
   ],
   "source": [
    "#调用f(x) = exp(x)并进行微分 ,利用lambda函数来定义一个函数\n",
    "from math import exp\n",
    "def diff(f1,x,h=1E-6):\n",
    "    result = (f(x+h) - f(x-h))/(2*h)\n",
    "    return result\n",
    "\n",
    "f1 = lambda x:exp(-2*x**2)\n",
    "diff(f1,0,h=1E-6)"
   ]
  },
  {
   "cell_type": "code",
   "execution_count": null,
   "metadata": {},
   "outputs": [],
   "source": []
  }
 ],
 "metadata": {
  "kernelspec": {
   "display_name": "Python 3",
   "language": "python",
   "name": "python3"
  },
  "language_info": {
   "codemirror_mode": {
    "name": "ipython",
    "version": 3
   },
   "file_extension": ".py",
   "mimetype": "text/x-python",
   "name": "python",
   "nbconvert_exporter": "python",
   "pygments_lexer": "ipython3",
   "version": "3.5.2"
  }
 },
 "nbformat": 4,
 "nbformat_minor": 2
}
