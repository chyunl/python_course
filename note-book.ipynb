{
 "cells": [
  {
   "cell_type": "code",
   "execution_count": 27,
   "metadata": {},
   "outputs": [
    {
     "data": {
      "text/plain": [
       "0.9999999999732445"
      ]
     },
     "execution_count": 27,
     "metadata": {},
     "output_type": "execute_result"
    }
   ],
   "source": [
    "#调用f(x) = exp(x)并进行微分\n",
    "from math import exp\n",
    "\n",
    "def f1(x):\n",
    "    result = exp(x)\n",
    "    return result\n",
    "def diff(f1,x,h=1E-6):\n",
    "    result = (f(x+h) - f(x-h))/(2*h)\n",
    "    return result\n",
    "    \n",
    "diff(f1,0,h=1E-6)"
   ]
  },
  {
   "cell_type": "code",
   "execution_count": null,
   "metadata": {},
   "outputs": [],
   "source": [
    "#调用f(x) = exp(-2x**2)并进行微分\n",
    "from math import exp\n",
    "def f2(x):\n",
    "    result = = exp(-2*x**2)"
   ]
  },
  {
   "cell_type": "code",
   "execution_count": 28,
   "metadata": {},
   "outputs": [
    {
     "data": {
      "text/plain": [
       "0.9999999999732445"
      ]
     },
     "execution_count": 28,
     "metadata": {},
     "output_type": "execute_result"
    }
   ],
   "source": [
    "#调用f(x) = exp(x)并进行微分 ,利用lambda函数来定义一个函数\n",
    "from math import exp\n",
    "def diff(f1,x,h=1E-6):\n",
    "    result = (f(x+h) - f(x-h))/(2*h)\n",
    "    return result\n",
    "\n",
    "f1 = lambda x:exp(-2*x**2)\n",
    "diff(f1,0,h=1E-6)"
   ]
  },
  {
   "cell_type": "markdown",
   "metadata": {},
   "source": [
    "## 字符串操作"
   ]
  },
  {
   "cell_type": "code",
   "execution_count": 2,
   "metadata": {},
   "outputs": [],
   "source": [
    "s = 'Beijing： 12C \\\n",
    "Tian jing: 14c'"
   ]
  },
  {
   "cell_type": "code",
   "execution_count": 3,
   "metadata": {},
   "outputs": [
    {
     "name": "stdout",
     "output_type": "stream",
     "text": [
      "Beijing： 12C Tian jing: 14c\n"
     ]
    }
   ],
   "source": [
    "print(s)"
   ]
  },
  {
   "cell_type": "code",
   "execution_count": 5,
   "metadata": {},
   "outputs": [],
   "source": [
    "s = '''\n",
    "    beijing: 12c\n",
    "    tianjing：14c\n",
    "    '''"
   ]
  },
  {
   "cell_type": "code",
   "execution_count": 6,
   "metadata": {},
   "outputs": [
    {
     "name": "stdout",
     "output_type": "stream",
     "text": [
      "\n",
      "beijing: 12c\n",
      "tianjing：14c\n",
      "\n"
     ]
    }
   ],
   "source": [
    "print(s)"
   ]
  },
  {
   "cell_type": "code",
   "execution_count": 9,
   "metadata": {},
   "outputs": [],
   "source": [
    "s = 'Beijing： 12C; Tian jing: 14c'"
   ]
  },
  {
   "cell_type": "code",
   "execution_count": 14,
   "metadata": {},
   "outputs": [
    {
     "name": "stdout",
     "output_type": "stream",
     "text": [
      "2C  ;Tian jing: 14c\n"
     ]
    }
   ],
   "source": [
    "print(s[10:])"
   ]
  },
  {
   "cell_type": "code",
   "execution_count": 11,
   "metadata": {},
   "outputs": [
    {
     "data": {
      "text/plain": [
       "True"
      ]
     },
     "execution_count": 11,
     "metadata": {},
     "output_type": "execute_result"
    }
   ],
   "source": [
    "#用in来判断两个字符串是否包含\n",
    "'e' in s"
   ]
  },
  {
   "cell_type": "code",
   "execution_count": 12,
   "metadata": {},
   "outputs": [
    {
     "data": {
      "text/plain": [
       "-1"
      ]
     },
     "execution_count": 12,
     "metadata": {},
     "output_type": "execute_result"
    }
   ],
   "source": [
    "s.find('taiyuan')"
   ]
  },
  {
   "cell_type": "code",
   "execution_count": 13,
   "metadata": {},
   "outputs": [
    {
     "data": {
      "text/plain": [
       "0"
      ]
     },
     "execution_count": 13,
     "metadata": {},
     "output_type": "execute_result"
    }
   ],
   "source": [
    "s.find('Beijing')"
   ]
  },
  {
   "cell_type": "code",
   "execution_count": 15,
   "metadata": {},
   "outputs": [
    {
     "data": {
      "text/plain": [
       "False"
      ]
     },
     "execution_count": 15,
     "metadata": {},
     "output_type": "execute_result"
    }
   ],
   "source": [
    "s.endswith(' ')"
   ]
  },
  {
   "cell_type": "code",
   "execution_count": 16,
   "metadata": {},
   "outputs": [
    {
     "data": {
      "text/plain": [
       "True"
      ]
     },
     "execution_count": 16,
     "metadata": {},
     "output_type": "execute_result"
    }
   ],
   "source": [
    "s.endswith('')"
   ]
  },
  {
   "cell_type": "code",
   "execution_count": 17,
   "metadata": {},
   "outputs": [
    {
     "data": {
      "text/plain": [
       "True"
      ]
     },
     "execution_count": 17,
     "metadata": {},
     "output_type": "execute_result"
    }
   ],
   "source": [
    "s.startswith('Beijing')"
   ]
  },
  {
   "cell_type": "markdown",
   "metadata": {},
   "source": [
    "## substitution"
   ]
  },
  {
   "cell_type": "code",
   "execution_count": 51,
   "metadata": {},
   "outputs": [],
   "source": [
    "s = ' Beijing: 12C; Tianjing: 12c '"
   ]
  },
  {
   "cell_type": "code",
   "execution_count": 25,
   "metadata": {},
   "outputs": [
    {
     "data": {
      "text/plain": [
       "'Beijing： 24C; Tian jing: 24c'"
      ]
     },
     "execution_count": 25,
     "metadata": {},
     "output_type": "execute_result"
    }
   ],
   "source": [
    "s.replace('12','24') #原文件没有改变，需要定义一个新的变量"
   ]
  },
  {
   "cell_type": "code",
   "execution_count": 24,
   "metadata": {},
   "outputs": [],
   "source": [
    "news =  s.replace('12','24')"
   ]
  },
  {
   "cell_type": "code",
   "execution_count": 27,
   "metadata": {},
   "outputs": [
    {
     "name": "stdout",
     "output_type": "stream",
     "text": [
      "Beijing： 24C; Tian jing: 24c\n"
     ]
    }
   ],
   "source": [
    "print(news)"
   ]
  },
  {
   "cell_type": "code",
   "execution_count": 22,
   "metadata": {},
   "outputs": [],
   "source": [
    "s.replace?"
   ]
  },
  {
   "cell_type": "code",
   "execution_count": 33,
   "metadata": {},
   "outputs": [
    {
     "data": {
      "text/plain": [
       "['Beijing:', '12C;', 'Tianjing:', '12c']"
      ]
     },
     "execution_count": 33,
     "metadata": {},
     "output_type": "execute_result"
    }
   ],
   "source": [
    "s.split()"
   ]
  },
  {
   "cell_type": "code",
   "execution_count": 34,
   "metadata": {},
   "outputs": [
    {
     "data": {
      "text/plain": [
       "['Beijing: 12C', ' Tianjing: 12c']"
      ]
     },
     "execution_count": 34,
     "metadata": {},
     "output_type": "execute_result"
    }
   ],
   "source": [
    "s.split(';')"
   ]
  },
  {
   "cell_type": "code",
   "execution_count": 38,
   "metadata": {},
   "outputs": [
    {
     "name": "stdout",
     "output_type": "stream",
     "text": [
      "['Beijing:', '12C;', 'Tianjing:', '12c']\n"
     ]
    }
   ],
   "source": [
    "l = s.split()\n",
    "print(l)"
   ]
  },
  {
   "cell_type": "code",
   "execution_count": 37,
   "metadata": {},
   "outputs": [
    {
     "data": {
      "text/plain": [
       "'Beijing:--12C;--Tianjing:--12c'"
      ]
     },
     "execution_count": 37,
     "metadata": {},
     "output_type": "execute_result"
    }
   ],
   "source": [
    "'--'.join(l)"
   ]
  },
  {
   "cell_type": "code",
   "execution_count": 39,
   "metadata": {},
   "outputs": [
    {
     "data": {
      "text/plain": [
       "'Beijing::::12C;:::Tianjing::::12c'"
      ]
     },
     "execution_count": 39,
     "metadata": {},
     "output_type": "execute_result"
    }
   ],
   "source": [
    "sep = ':::'\n",
    "sep.join(l)"
   ]
  },
  {
   "cell_type": "code",
   "execution_count": 40,
   "metadata": {},
   "outputs": [],
   "source": [
    "sep.join?"
   ]
  },
  {
   "cell_type": "code",
   "execution_count": 43,
   "metadata": {},
   "outputs": [],
   "source": [
    "ss = '1st line\\n2nd line\\n3rd line'"
   ]
  },
  {
   "cell_type": "code",
   "execution_count": 44,
   "metadata": {},
   "outputs": [
    {
     "name": "stdout",
     "output_type": "stream",
     "text": [
      "1st line\n",
      "2nd line\n",
      "3rd line\n"
     ]
    }
   ],
   "source": [
    "print(ss)"
   ]
  },
  {
   "cell_type": "code",
   "execution_count": 45,
   "metadata": {},
   "outputs": [
    {
     "data": {
      "text/plain": [
       "['1st line', '2nd line', '3rd line']"
      ]
     },
     "execution_count": 45,
     "metadata": {},
     "output_type": "execute_result"
    }
   ],
   "source": [
    "ss.splitlines()"
   ]
  },
  {
   "cell_type": "code",
   "execution_count": 46,
   "metadata": {},
   "outputs": [
    {
     "data": {
      "text/plain": [
       "'Beijing: 12C; Tianjing: 12c1st line\\n2nd line\\n3rd line'"
      ]
     },
     "execution_count": 46,
     "metadata": {},
     "output_type": "execute_result"
    }
   ],
   "source": [
    "s + ss"
   ]
  },
  {
   "cell_type": "code",
   "execution_count": 47,
   "metadata": {},
   "outputs": [
    {
     "data": {
      "text/plain": [
       "'Beijing: 12C; Tianjing: 12cBeijing: 12C; Tianjing: 12cBeijing: 12C; Tianjing: 12c'"
      ]
     },
     "execution_count": 47,
     "metadata": {},
     "output_type": "execute_result"
    }
   ],
   "source": [
    "s * 3"
   ]
  },
  {
   "cell_type": "code",
   "execution_count": 48,
   "metadata": {},
   "outputs": [
    {
     "data": {
      "text/plain": [
       "'2C; Tianjing: 12cBeiji'"
      ]
     },
     "execution_count": 48,
     "metadata": {},
     "output_type": "execute_result"
    }
   ],
   "source": [
    "s[10:] + s[0:5]"
   ]
  },
  {
   "cell_type": "code",
   "execution_count": null,
   "metadata": {},
   "outputs": [],
   "source": []
  },
  {
   "cell_type": "markdown",
   "metadata": {},
   "source": [
    "## Strip 去掉两端的空格及回车"
   ]
  },
  {
   "cell_type": "code",
   "execution_count": 52,
   "metadata": {},
   "outputs": [
    {
     "data": {
      "text/plain": [
       "' Beijing: 12C; Tianjing: 12c '"
      ]
     },
     "execution_count": 52,
     "metadata": {},
     "output_type": "execute_result"
    }
   ],
   "source": [
    "s"
   ]
  },
  {
   "cell_type": "code",
   "execution_count": 53,
   "metadata": {},
   "outputs": [
    {
     "data": {
      "text/plain": [
       "'Beijing: 12C; Tianjing: 12c'"
      ]
     },
     "execution_count": 53,
     "metadata": {},
     "output_type": "execute_result"
    }
   ],
   "source": [
    "s.strip()"
   ]
  },
  {
   "cell_type": "code",
   "execution_count": 54,
   "metadata": {},
   "outputs": [
    {
     "data": {
      "text/plain": [
       "' Beijing: 12C; Tianjing: 12c'"
      ]
     },
     "execution_count": 54,
     "metadata": {},
     "output_type": "execute_result"
    }
   ],
   "source": [
    "s.rstrip()"
   ]
  },
  {
   "cell_type": "markdown",
   "metadata": {},
   "source": [
    "# File 文件操作"
   ]
  },
  {
   "cell_type": "code",
   "execution_count": 56,
   "metadata": {},
   "outputs": [
    {
     "data": {
      "text/plain": [
       "'/home/ren/python_course'"
      ]
     },
     "execution_count": 56,
     "metadata": {},
     "output_type": "execute_result"
    }
   ],
   "source": [
    "pwd"
   ]
  },
  {
   "cell_type": "code",
   "execution_count": 5,
   "metadata": {},
   "outputs": [],
   "source": [
    "filename = '/home/ren/software/ase/README.rst'"
   ]
  },
  {
   "cell_type": "code",
   "execution_count": 6,
   "metadata": {},
   "outputs": [],
   "source": [
    "f = open(filename)   #打开了一个文件"
   ]
  },
  {
   "cell_type": "code",
   "execution_count": 7,
   "metadata": {},
   "outputs": [
    {
     "data": {
      "text/plain": [
       "['Atomic Simulation Environment\\n',\n",
       " '=============================\\n',\n",
       " '\\n',\n",
       " 'ASE is a set of tools and Python modules for setting up, manipulating,\\n',\n",
       " 'running, visualizing and analyzing atomistic simulations.\\n',\n",
       " '\\n',\n",
       " 'Webpage: http://wiki.fysik.dtu.dk/ase\\n',\n",
       " '\\n',\n",
       " '\\n',\n",
       " 'Requirements\\n',\n",
       " '------------\\n',\n",
       " '\\n',\n",
       " '* Python_ 2.7, 3.4-3.6\\n',\n",
       " '* NumPy_ (base N-dimensional array package)\\n',\n",
       " '\\n',\n",
       " 'Optional:\\n',\n",
       " '\\n',\n",
       " '* SciPy_ (library for scientific computing)\\n',\n",
       " \"* For ASE's GUI: Matplotlib_ (2D Plotting)\\n\",\n",
       " '\\n',\n",
       " '\\n',\n",
       " 'Installation\\n',\n",
       " '------------\\n',\n",
       " '\\n',\n",
       " 'Add ``~/ase`` to your $PYTHONPATH environment variable and add\\n',\n",
       " '``~/ase/bin`` to $PATH (assuming ``~/ase`` is where your ASE folder is).\\n',\n",
       " '\\n',\n",
       " '\\n',\n",
       " 'Testing\\n',\n",
       " '-------\\n',\n",
       " '\\n',\n",
       " 'Please run the tests::\\n',\n",
       " '\\n',\n",
       " '    $ ase test  # takes 1 min.\\n',\n",
       " '\\n',\n",
       " 'and send us the output if there are failing tests.\\n',\n",
       " '\\n',\n",
       " '\\n',\n",
       " 'Contact\\n',\n",
       " '-------\\n',\n",
       " '\\n',\n",
       " '* Mailing list: ase-users_\\n',\n",
       " '* IRC_: #ase on freenode.net\\n',\n",
       " '\\n',\n",
       " 'Please send us bug-reports, patches, code, ideas and questions.\\n',\n",
       " '\\n',\n",
       " '\\n',\n",
       " 'Example\\n',\n",
       " '-------\\n',\n",
       " '\\n',\n",
       " 'Geometry optimization of hydrogen molecule with NWChem:\\n',\n",
       " '\\n',\n",
       " '>>> from ase import Atoms\\n',\n",
       " '>>> from ase.optimize import BFGS\\n',\n",
       " '>>> from ase.calculators.nwchem import NWChem\\n',\n",
       " '>>> from ase.io import write\\n',\n",
       " \">>> h2 = Atoms('H2',\\n\",\n",
       " '               positions=[[0, 0, 0],\\n',\n",
       " '                          [0, 0, 0.7]])\\n',\n",
       " \">>> h2.calc = NWChem(xc='PBE')\\n\",\n",
       " \">>> opt = BFGS(h2, trajectory='h2.traj')\\n\",\n",
       " '>>> opt.run(fmax=0.02)\\n',\n",
       " 'BFGS:   0  19:10:49    -31.435229     2.2691\\n',\n",
       " 'BFGS:   1  19:10:50    -31.490773     0.3740\\n',\n",
       " 'BFGS:   2  19:10:50    -31.492791     0.0630\\n',\n",
       " 'BFGS:   3  19:10:51    -31.492848     0.0023\\n',\n",
       " \">>> write('H2.xyz', h2)\\n\",\n",
       " \">>> h2.get_potential_energy()  # ASE's units are eV and Ang\\n\",\n",
       " '-31.492847800329216\\n',\n",
       " '\\n',\n",
       " '::\\n',\n",
       " '\\n',\n",
       " '    $ ase gui h2.traj\\n',\n",
       " '\\n',\n",
       " '\\n',\n",
       " '.. _Python: http://www.python.org/\\n',\n",
       " '.. _NumPy: http://docs.scipy.org/doc/numpy/reference/\\n',\n",
       " '.. _SciPy: http://docs.scipy.org/doc/scipy/reference/\\n',\n",
       " '.. _Matplotlib: http://matplotlib.org/\\n',\n",
       " '.. _ase-users: https://listserv.fysik.dtu.dk/mailman/listinfo/ase-users\\n',\n",
       " '.. _IRC: http://webchat.freenode.net/?randomnick=0&channels=ase\\n']"
      ]
     },
     "execution_count": 7,
     "metadata": {},
     "output_type": "execute_result"
    }
   ],
   "source": [
    "lines = f.readlines()  #读入,只能被读取一遍\n",
    "lines"
   ]
  },
  {
   "cell_type": "code",
   "execution_count": 85,
   "metadata": {},
   "outputs": [],
   "source": [
    "#lines2 = f.readlines()  #读入,只能被读取一遍\n",
    "#lines2                  #想要再次读取，需要再次open()"
   ]
  },
  {
   "cell_type": "code",
   "execution_count": 102,
   "metadata": {},
   "outputs": [
    {
     "data": {
      "text/plain": [
       "['Atomic Simulation Environment\\n',\n",
       " '=============================\\n',\n",
       " '\\n',\n",
       " 'ASE is a set of tools and Python modules for setting up, manipulating,\\n',\n",
       " 'running, visualizing and analyzing atomistic simulations.\\n',\n",
       " '\\n',\n",
       " 'Webpage: http://wiki.fysik.dtu.dk/ase\\n',\n",
       " '\\n',\n",
       " '\\n',\n",
       " 'Requirements\\n',\n",
       " '------------\\n',\n",
       " '\\n',\n",
       " '* Python_ 2.7, 3.4-3.6\\n',\n",
       " '* NumPy_ (base N-dimensional array package)\\n',\n",
       " '\\n',\n",
       " 'Optional:\\n',\n",
       " '\\n',\n",
       " '* SciPy_ (library for scientific computing)\\n',\n",
       " \"* For ASE's GUI: Matplotlib_ (2D Plotting)\\n\",\n",
       " '\\n',\n",
       " '\\n',\n",
       " 'Installation\\n',\n",
       " '------------\\n',\n",
       " '\\n',\n",
       " 'Add ``~/ase`` to your $PYTHONPATH environment variable and add\\n',\n",
       " '``~/ase/bin`` to $PATH (assuming ``~/ase`` is where your ASE folder is).\\n',\n",
       " '\\n',\n",
       " '\\n',\n",
       " 'Testing\\n',\n",
       " '-------\\n',\n",
       " '\\n',\n",
       " 'Please run the tests::\\n',\n",
       " '\\n',\n",
       " '    $ ase test  # takes 1 min.\\n',\n",
       " '\\n',\n",
       " 'and send us the output if there are failing tests.\\n',\n",
       " '\\n',\n",
       " '\\n',\n",
       " 'Contact\\n',\n",
       " '-------\\n',\n",
       " '\\n',\n",
       " '* Mailing list: ase-users_\\n',\n",
       " '* IRC_: #ase on freenode.net\\n',\n",
       " '\\n',\n",
       " 'Please send us bug-reports, patches, code, ideas and questions.\\n',\n",
       " '\\n',\n",
       " '\\n',\n",
       " 'Example\\n',\n",
       " '-------\\n',\n",
       " '\\n',\n",
       " 'Geometry optimization of hydrogen molecule with NWChem:\\n',\n",
       " '\\n',\n",
       " '>>> from ase import Atoms\\n',\n",
       " '>>> from ase.optimize import BFGS\\n',\n",
       " '>>> from ase.calculators.nwchem import NWChem\\n',\n",
       " '>>> from ase.io import write\\n',\n",
       " \">>> h2 = Atoms('H2',\\n\",\n",
       " '               positions=[[0, 0, 0],\\n',\n",
       " '                          [0, 0, 0.7]])\\n',\n",
       " \">>> h2.calc = NWChem(xc='PBE')\\n\",\n",
       " \">>> opt = BFGS(h2, trajectory='h2.traj')\\n\",\n",
       " '>>> opt.run(fmax=0.02)\\n',\n",
       " 'BFGS:   0  19:10:49    -31.435229     2.2691\\n',\n",
       " 'BFGS:   1  19:10:50    -31.490773     0.3740\\n',\n",
       " 'BFGS:   2  19:10:50    -31.492791     0.0630\\n',\n",
       " 'BFGS:   3  19:10:51    -31.492848     0.0023\\n',\n",
       " \">>> write('H2.xyz', h2)\\n\",\n",
       " \">>> h2.get_potential_energy()  # ASE's units are eV and Ang\\n\",\n",
       " '-31.492847800329216\\n',\n",
       " '\\n',\n",
       " '::\\n',\n",
       " '\\n',\n",
       " '    $ ase gui h2.traj\\n',\n",
       " '\\n',\n",
       " '\\n',\n",
       " '.. _Python: http://www.python.org/\\n',\n",
       " '.. _NumPy: http://docs.scipy.org/doc/numpy/reference/\\n',\n",
       " '.. _SciPy: http://docs.scipy.org/doc/scipy/reference/\\n',\n",
       " '.. _Matplotlib: http://matplotlib.org/\\n',\n",
       " '.. _ase-users: https://listserv.fysik.dtu.dk/mailman/listinfo/ase-users\\n',\n",
       " '.. _IRC: http://webchat.freenode.net/?randomnick=0&channels=ase\\n']"
      ]
     },
     "execution_count": 102,
     "metadata": {},
     "output_type": "execute_result"
    }
   ],
   "source": [
    "newlines1 = []\n",
    "f = open(filename)\n",
    "for i in f:\n",
    "    newlines1.append(i)\n",
    "newlines1"
   ]
  },
  {
   "cell_type": "code",
   "execution_count": 95,
   "metadata": {},
   "outputs": [
    {
     "data": {
      "text/plain": [
       "['Atomic Simulation Environment\\n',\n",
       " '=============================\\n',\n",
       " '\\n',\n",
       " 'ASE is a set of tools and Python modules for setting up, manipulating,\\n',\n",
       " 'running, visualizing and analyzing atomistic simulations.\\n',\n",
       " '\\n',\n",
       " 'Webpage: http://wiki.fysik.dtu.dk/ase\\n',\n",
       " '\\n',\n",
       " '\\n',\n",
       " 'Requirements\\n',\n",
       " '------------\\n',\n",
       " '\\n',\n",
       " '* Python_ 2.7, 3.4-3.6\\n',\n",
       " '* NumPy_ (base N-dimensional array package)\\n',\n",
       " '\\n',\n",
       " 'Optional:\\n',\n",
       " '\\n',\n",
       " '* SciPy_ (library for scientific computing)\\n',\n",
       " \"* For ASE's GUI: Matplotlib_ (2D Plotting)\\n\",\n",
       " '\\n',\n",
       " '\\n',\n",
       " 'Installation\\n',\n",
       " '------------\\n',\n",
       " '\\n',\n",
       " 'Add ``~/ase`` to your $PYTHONPATH environment variable and add\\n',\n",
       " '``~/ase/bin`` to $PATH (assuming ``~/ase`` is where your ASE folder is).\\n',\n",
       " '\\n',\n",
       " '\\n',\n",
       " 'Testing\\n',\n",
       " '-------\\n',\n",
       " '\\n',\n",
       " 'Please run the tests::\\n',\n",
       " '\\n',\n",
       " '    $ ase test  # takes 1 min.\\n',\n",
       " '\\n',\n",
       " 'and send us the output if there are failing tests.\\n',\n",
       " '\\n',\n",
       " '\\n',\n",
       " 'Contact\\n',\n",
       " '-------\\n',\n",
       " '\\n',\n",
       " '* Mailing list: ase-users_\\n',\n",
       " '* IRC_: #ase on freenode.net\\n',\n",
       " '\\n',\n",
       " 'Please send us bug-reports, patches, code, ideas and questions.\\n',\n",
       " '\\n',\n",
       " '\\n',\n",
       " 'Example\\n',\n",
       " '-------\\n',\n",
       " '\\n',\n",
       " 'Geometry optimization of hydrogen molecule with NWChem:\\n',\n",
       " '\\n',\n",
       " '>>> from ase import Atoms\\n',\n",
       " '>>> from ase.optimize import BFGS\\n',\n",
       " '>>> from ase.calculators.nwchem import NWChem\\n',\n",
       " '>>> from ase.io import write\\n',\n",
       " \">>> h2 = Atoms('H2',\\n\",\n",
       " '               positions=[[0, 0, 0],\\n',\n",
       " '                          [0, 0, 0.7]])\\n',\n",
       " \">>> h2.calc = NWChem(xc='PBE')\\n\",\n",
       " \">>> opt = BFGS(h2, trajectory='h2.traj')\\n\",\n",
       " '>>> opt.run(fmax=0.02)\\n',\n",
       " 'BFGS:   0  19:10:49    -31.435229     2.2691\\n',\n",
       " 'BFGS:   1  19:10:50    -31.490773     0.3740\\n',\n",
       " 'BFGS:   2  19:10:50    -31.492791     0.0630\\n',\n",
       " 'BFGS:   3  19:10:51    -31.492848     0.0023\\n',\n",
       " \">>> write('H2.xyz', h2)\\n\",\n",
       " \">>> h2.get_potential_energy()  # ASE's units are eV and Ang\\n\",\n",
       " '-31.492847800329216\\n',\n",
       " '\\n',\n",
       " '::\\n',\n",
       " '\\n',\n",
       " '    $ ase gui h2.traj\\n',\n",
       " '\\n',\n",
       " '\\n',\n",
       " '.. _Python: http://www.python.org/\\n',\n",
       " '.. _NumPy: http://docs.scipy.org/doc/numpy/reference/\\n',\n",
       " '.. _SciPy: http://docs.scipy.org/doc/scipy/reference/\\n',\n",
       " '.. _Matplotlib: http://matplotlib.org/\\n',\n",
       " '.. _ase-users: https://listserv.fysik.dtu.dk/mailman/listinfo/ase-users\\n',\n",
       " '.. _IRC: http://webchat.freenode.net/?randomnick=0&channels=ase\\n']"
      ]
     },
     "execution_count": 95,
     "metadata": {},
     "output_type": "execute_result"
    }
   ],
   "source": [
    "f = open(filename)\n",
    "lines3 = [i for i in f]\n",
    "lines3"
   ]
  },
  {
   "cell_type": "code",
   "execution_count": 109,
   "metadata": {},
   "outputs": [
    {
     "name": "stdout",
     "output_type": "stream",
     "text": [
      "['Atomic Simulation Environment', '=============================', '', 'ASE is a set of tools and Python modules for setting up, manipulating,', 'running, visualizing and analyzing atomistic simulations.', '', 'Webpage: http://wiki.fysik.dtu.dk/ase', '', '', 'Requirements', '------------', '', '* Python_ 2.7, 3.4-3.6', '* NumPy_ (base N-dimensional array package)', '', 'Optional:', '', '* SciPy_ (library for scientific computing)', \"* For ASE's GUI: Matplotlib_ (2D Plotting)\", '', '', 'Installation', '------------', '', 'Add ``~/ase`` to your $PYTHONPATH environment variable and add', '``~/ase/bin`` to $PATH (assuming ``~/ase`` is where your ASE folder is).', '', '', 'Testing', '-------', '', 'Please run the tests::', '', '$ ase test  # takes 1 min.', '', 'and send us the output if there are failing tests.', '', '', 'Contact', '-------', '', '* Mailing list: ase-users_', '* IRC_: #ase on freenode.net', '', 'Please send us bug-reports, patches, code, ideas and questions.', '', '', 'Example', '-------', '', 'Geometry optimization of hydrogen molecule with NWChem:', '', '>>> from ase import Atoms', '>>> from ase.optimize import BFGS', '>>> from ase.calculators.nwchem import NWChem', '>>> from ase.io import write', \">>> h2 = Atoms('H2',\", 'positions=[[0, 0, 0],', '[0, 0, 0.7]])', \">>> h2.calc = NWChem(xc='PBE')\", \">>> opt = BFGS(h2, trajectory='h2.traj')\", '>>> opt.run(fmax=0.02)', 'BFGS:   0  19:10:49    -31.435229     2.2691', 'BFGS:   1  19:10:50    -31.490773     0.3740', 'BFGS:   2  19:10:50    -31.492791     0.0630', 'BFGS:   3  19:10:51    -31.492848     0.0023', \">>> write('H2.xyz', h2)\", \">>> h2.get_potential_energy()  # ASE's units are eV and Ang\", '-31.492847800329216', '', '::', '', '$ ase gui h2.traj', '', '', '.. _Python: http://www.python.org/', '.. _NumPy: http://docs.scipy.org/doc/numpy/reference/', '.. _SciPy: http://docs.scipy.org/doc/scipy/reference/', '.. _Matplotlib: http://matplotlib.org/', '.. _ase-users: https://listserv.fysik.dtu.dk/mailman/listinfo/ase-users', '.. _IRC: http://webchat.freenode.net/?randomnick=0&channels=ase']\n"
     ]
    }
   ],
   "source": [
    "newlines = [i.strip() for i in lines]\n",
    "print(newlines)"
   ]
  },
  {
   "cell_type": "code",
   "execution_count": 11,
   "metadata": {},
   "outputs": [],
   "source": [
    "NEWlines = [i.strip() for i in lines if i.strip() is not '']"
   ]
  },
  {
   "cell_type": "code",
   "execution_count": 8,
   "metadata": {},
   "outputs": [],
   "source": [
    "newfilename = 'NEWline'"
   ]
  },
  {
   "cell_type": "code",
   "execution_count": 18,
   "metadata": {},
   "outputs": [],
   "source": [
    "newfile = open(newfilename, mode='w')"
   ]
  },
  {
   "cell_type": "code",
   "execution_count": 21,
   "metadata": {},
   "outputs": [
    {
     "name": "stdout",
     "output_type": "stream",
     "text": [
      "Object `join` not found.\n"
     ]
    }
   ],
   "source": [
    "'nihao'.join?"
   ]
  },
  {
   "cell_type": "code",
   "execution_count": null,
   "metadata": {},
   "outputs": [],
   "source": [
    "'nihao'.join"
   ]
  },
  {
   "cell_type": "code",
   "execution_count": null,
   "metadata": {},
   "outputs": [],
   "source": [
    ".join"
   ]
  },
  {
   "cell_type": "code",
   "execution_count": 30,
   "metadata": {},
   "outputs": [],
   "source": [
    "\n",
    "for i in NEWlines:\n",
    "    newfile.write(i)\n",
    "    newfile.write('\\n')\n",
    "newfile.close()"
   ]
  },
  {
   "cell_type": "code",
   "execution_count": 13,
   "metadata": {},
   "outputs": [
    {
     "data": {
      "text/plain": [
       "'/home/ren/python_course'"
      ]
     },
     "execution_count": 13,
     "metadata": {},
     "output_type": "execute_result"
    }
   ],
   "source": [
    "pwd"
   ]
  },
  {
   "cell_type": "code",
   "execution_count": 31,
   "metadata": {},
   "outputs": [],
   "source": [
    "newfile2name = 'NEWline2'\n",
    "newfile2 = open(newfile2name,mode='w')\n",
    "newfile2.write('\\n'.join(NEWlines))\n",
    "newfile2.close()"
   ]
  },
  {
   "cell_type": "code",
   "execution_count": 75,
   "metadata": {},
   "outputs": [],
   "source": [
    "testfilename = 'test'\n",
    "list1 = open(testfilename,mode = 'r').readlines()\n",
    "list2 = [float(i.strip()) for i in list1]\n",
    "\n",
    "lmax = max(list2)\n",
    "lmin = min(list2)\n",
    "lsum = sum(list2)\n",
    "ave = sum(list2)/float(len(list2))\n",
    "\n",
    "datfilename = 'analysis.dat'\n",
    "datfile = open(datfilename,mode = 'w')\n",
    "datfile.write('max_value' + '=' + str(lmax) + '\\n')\n",
    "datfile.write('min_value' + '=' + str(lmin) + '\\n')\n",
    "datfile.write('sum_value' + '=' + str(lsum) + '\\n')\n",
    "datfile.write('ave_value' + '=' + str(ave) + '\\n')\n",
    "datfile.close()"
   ]
  },
  {
   "cell_type": "code",
   "execution_count": 57,
   "metadata": {},
   "outputs": [
    {
     "data": {
      "text/plain": [
       "[12.0, 3.0, 4.0, 5.0, 89.0, 100.0]"
      ]
     },
     "execution_count": 57,
     "metadata": {},
     "output_type": "execute_result"
    }
   ],
   "source": [
    "test2filename = 'test2'\n",
    "lst3 = open(test2filename,'r').read().strip().split(' ')\n",
    "lst4 = [float(i) for i in lst3]\n",
    "lst4"
   ]
  },
  {
   "cell_type": "code",
   "execution_count": null,
   "metadata": {},
   "outputs": [],
   "source": []
  }
 ],
 "metadata": {
  "kernelspec": {
   "display_name": "Python 3",
   "language": "python",
   "name": "python3"
  },
  "language_info": {
   "codemirror_mode": {
    "name": "ipython",
    "version": 3
   },
   "file_extension": ".py",
   "mimetype": "text/x-python",
   "name": "python",
   "nbconvert_exporter": "python",
   "pygments_lexer": "ipython3",
   "version": "3.5.2"
  }
 },
 "nbformat": 4,
 "nbformat_minor": 2
}
